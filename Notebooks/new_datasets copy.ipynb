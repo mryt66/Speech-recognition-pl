{
 "cells": [
  {
   "cell_type": "code",
   "execution_count": 1,
   "id": "3f6bd5cf",
   "metadata": {},
   "outputs": [
    {
     "name": "stderr",
     "output_type": "stream",
     "text": [
      "c:\\Users\\kogut\\AppData\\Local\\Programs\\Python\\Python312\\Lib\\site-packages\\tqdm\\auto.py:21: TqdmWarning: IProgress not found. Please update jupyter and ipywidgets. See https://ipywidgets.readthedocs.io/en/stable/user_install.html\n",
      "  from .autonotebook import tqdm as notebook_tqdm\n"
     ]
    }
   ],
   "source": [
    "import random\n",
    "from dataclasses import dataclass\n",
    "from typing import Any, Dict, List, Union\n",
    "from datasets import load_dataset, DatasetDict, Audio, Dataset, concatenate_datasets\n",
    "from transformers import WhisperFeatureExtractor, WhisperTokenizer, WhisperProcessor, WhisperForConditionalGeneration, Seq2SeqTrainingArguments, Seq2SeqTrainer, pipeline\n",
    "import evaluate\n",
    "import jiwer\n",
    "import numpy as np\n",
    "from sklearn.model_selection import train_test_split\n",
    "import torch\n",
    "from tqdm import tqdm\n",
    "import gc\n",
    "import shutil\n",
    "import os\n",
    "import json\n",
    "import soundfile as sf\n",
    "import pandas as pd\n",
    "import librosa\n",
    "import torchaudio\n",
    "\n",
    "feature_extractor = WhisperFeatureExtractor.from_pretrained(\"openai/whisper-small\")\n",
    "tokenizer = WhisperTokenizer.from_pretrained(\"openai/whisper-small\", language=\"Polish\", task=\"transcribe\")"
   ]
  },
  {
   "cell_type": "code",
   "execution_count": 9,
   "id": "b7e9497a",
   "metadata": {},
   "outputs": [
    {
     "name": "stdout",
     "output_type": "stream",
     "text": [
      "dict_keys(['array', 'sentence'])\n"
     ]
    }
   ],
   "source": [
    "dataset1 = load_dataset(\"facebook/multilingual_librispeech\", \"polish\", trust_remote_code=True)\n",
    "\n",
    "def convert_example(example):\n",
    "    return {\n",
    "        'array': example['audio']['array'],\n",
    "        'sentence': example['transcript']\n",
    "    }\n",
    "\n",
    "converted_train = dataset1['train'].map(convert_example, remove_columns=dataset1['train'].column_names)\n",
    "print(converted_train[0].keys())"
   ]
  },
  {
   "cell_type": "code",
   "execution_count": null,
   "id": "099f789d",
   "metadata": {},
   "outputs": [],
   "source": []
  },
  {
   "cell_type": "code",
   "execution_count": null,
   "id": "aff48b89",
   "metadata": {},
   "outputs": [
    {
     "name": "stderr",
     "output_type": "stream",
     "text": [
      "Processing Training Data: 0batch [00:00, ?batch/s]"
     ]
    }
   ],
   "source": [
    "batch_size = 1000\n",
    "train_file_path = \"processed_train_data\"\n",
    "os.makedirs(train_file_path, exist_ok=True)\n",
    "\n",
    "def split_dataset(dataset, batch_size):\n",
    "    for i in range(0, len(dataset), batch_size):\n",
    "        yield dataset[i:i + batch_size]\n",
    "\n",
    "for batch_index, batch in enumerate(tqdm(split_dataset(converted_train, batch_size), desc=\"Processing Training Data\", unit=\"batch\")):\n",
    "    batch_data = {\"input_features\": [], \"labels\": []}\n",
    "    for example in batch:\n",
    "        audio_array = example[\"array\"]\n",
    "        sentence = example[\"sentence\"]\n",
    "        input_features = feature_extractor(audio_array, sampling_rate=16000, return_tensors=\"pt\").input_features[0]\n",
    "        labels = tokenizer(sentence, return_tensors=\"pt\").input_ids[0]\n",
    "        batch_data[\"input_features\"].append(input_features.numpy().tolist())\n",
    "        batch_data[\"labels\"].append(labels.numpy().tolist())\n",
    "    \n",
    "    batch_file = os.path.join(train_file_path, f\"batch_{batch_index}.json\")\n",
    "    with open(batch_file, \"w\") as f:\n",
    "        json.dump(batch_data, f)"
   ]
  },
  {
   "cell_type": "code",
   "execution_count": 17,
   "id": "674c47af",
   "metadata": {},
   "outputs": [
    {
     "name": "stdout",
     "output_type": "stream",
     "text": [
      "<class 'datasets.dataset_dict.DatasetDict'>\n",
      "{'audio': {'path': '6892_10350_000000.opus', 'array': array([-4.18551717e-05, -9.50167669e-05, -5.09495039e-05, ...,\n",
      "       -1.45179487e-03, -1.45464053e-03, -1.39807537e-03]), 'sampling_rate': 16000}, 'original_path': 'http://www.archive.org/download/myszeis_1511_librivox/myszeis_02_krasicki_64kb.mp3', 'begin_time': 29.07, 'end_time': 40.65, 'transcript': 'drugi w mniemaniu że honory bliskie nędzny w istocie nadzieją się cieszy tymczasem kiedy los szczęścia zagrodzi i tron nie wesprze i mierność zaszkodzi', 'audio_duration': 11.579999999999998, 'speaker_id': '6892', 'chapter_id': '10350', 'file': '6892_10350_000000.opus', 'id': '6892_10350_000000'}\n"
     ]
    }
   ],
   "source": [
    "print(type(dataset1))\n",
    "print(dataset1['train'][0])\n"
   ]
  },
  {
   "cell_type": "code",
   "execution_count": null,
   "id": "21c6c456",
   "metadata": {},
   "outputs": [
    {
     "data": {
      "text/plain": [
       "{'audio': {'path': '6892_10350_000000.opus',\n",
       "  'array': array([-4.18551717e-05, -9.50167669e-05, -5.09495039e-05, ...,\n",
       "         -1.45179487e-03, -1.45464053e-03, -1.39807537e-03]),\n",
       "  'sampling_rate': 16000},\n",
       " 'transcript': 'drugi w mniemaniu że honory bliskie nędzny w istocie nadzieją się cieszy tymczasem kiedy los szczęścia zagrodzi i tron nie wesprze i mierność zaszkodzi'}"
      ]
     },
     "execution_count": 13,
     "metadata": {},
     "output_type": "execute_result"
    }
   ],
   "source": [
    "converted_dataset1['train'][0]"
   ]
  },
  {
   "cell_type": "code",
   "execution_count": null,
   "id": "38184211",
   "metadata": {},
   "outputs": [
    {
     "data": {
      "application/vnd.jupyter.widget-view+json": {
       "model_id": "5571ef6eef994a3fbe386987ef51e8fd",
       "version_major": 2,
       "version_minor": 0
      },
      "text/plain": [
       "n_files.json:   0%|          | 0.00/1.29k [00:00<?, ?B/s]"
      ]
     },
     "metadata": {},
     "output_type": "display_data"
    },
    {
     "data": {
      "application/vnd.jupyter.widget-view+json": {
       "model_id": "6dc79ca36d1243cc9c98f116622424c6",
       "version_major": 2,
       "version_minor": 0
      },
      "text/plain": [
       "asr_train.tsv:   0%|          | 0.00/14.0M [00:00<?, ?B/s]"
      ]
     },
     "metadata": {},
     "output_type": "display_data"
    },
    {
     "data": {
      "application/vnd.jupyter.widget-view+json": {
       "model_id": "d0ebd9a1fb1a4d8d9b09e79e0b19133b",
       "version_major": 2,
       "version_minor": 0
      },
      "text/plain": [
       "asr_dev.tsv:   0%|          | 0.00/666k [00:00<?, ?B/s]"
      ]
     },
     "metadata": {},
     "output_type": "display_data"
    },
    {
     "data": {
      "application/vnd.jupyter.widget-view+json": {
       "model_id": "f7de6cd16a6f4be493a1d5cf3566f4fc",
       "version_major": 2,
       "version_minor": 0
      },
      "text/plain": [
       "asr_test.tsv:   0%|          | 0.00/695k [00:00<?, ?B/s]"
      ]
     },
     "metadata": {},
     "output_type": "display_data"
    },
    {
     "data": {
      "application/vnd.jupyter.widget-view+json": {
       "model_id": "77e2700ea93f434983280750f972573b",
       "version_major": 2,
       "version_minor": 0
      },
      "text/plain": [
       "train_part_0.tar.gz:   0%|          | 0.00/1.71G [00:00<?, ?B/s]"
      ]
     },
     "metadata": {},
     "output_type": "display_data"
    },
    {
     "data": {
      "application/vnd.jupyter.widget-view+json": {
       "model_id": "530bd12898b14b619d929313b1dcd66d",
       "version_major": 2,
       "version_minor": 0
      },
      "text/plain": [
       "train_part_1.tar.gz:   0%|          | 0.00/1.74G [00:00<?, ?B/s]"
      ]
     },
     "metadata": {},
     "output_type": "display_data"
    }
   ],
   "source": [
    "dataset2 = load_dataset(\"facebook/voxpopuli\", \"pl\", trust_remote_code=True)"
   ]
  },
  {
   "cell_type": "code",
   "execution_count": 5,
   "id": "4a591a1f",
   "metadata": {},
   "outputs": [
    {
     "ename": "NameError",
     "evalue": "name 'dataset2' is not defined",
     "output_type": "error",
     "traceback": [
      "\u001b[31m---------------------------------------------------------------------------\u001b[39m",
      "\u001b[31mNameError\u001b[39m                                 Traceback (most recent call last)",
      "\u001b[36mCell\u001b[39m\u001b[36m \u001b[39m\u001b[32mIn[5]\u001b[39m\u001b[32m, line 1\u001b[39m\n\u001b[32m----> \u001b[39m\u001b[32m1\u001b[39m \u001b[43mdataset2\u001b[49m[\u001b[33m'\u001b[39m\u001b[33mtrain\u001b[39m\u001b[33m'\u001b[39m][\u001b[32m0\u001b[39m]\n",
      "\u001b[31mNameError\u001b[39m: name 'dataset2' is not defined"
     ]
    }
   ],
   "source": [
    "dataset2['train'][0]"
   ]
  },
  {
   "cell_type": "code",
   "execution_count": null,
   "id": "c9b7f2f6",
   "metadata": {},
   "outputs": [],
   "source": []
  }
 ],
 "metadata": {
  "kernelspec": {
   "display_name": "Python 3",
   "language": "python",
   "name": "python3"
  },
  "language_info": {
   "codemirror_mode": {
    "name": "ipython",
    "version": 3
   },
   "file_extension": ".py",
   "mimetype": "text/x-python",
   "name": "python",
   "nbconvert_exporter": "python",
   "pygments_lexer": "ipython3",
   "version": "3.12.0"
  }
 },
 "nbformat": 4,
 "nbformat_minor": 5
}
