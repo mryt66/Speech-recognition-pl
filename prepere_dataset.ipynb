{
 "cells": [
  {
   "cell_type": "code",
   "execution_count": 2,
   "metadata": {},
   "outputs": [
    {
     "name": "stderr",
     "output_type": "stream",
     "text": [
      "c:\\Users\\Marcin\\AppData\\Local\\Programs\\Python\\Python312\\Lib\\site-packages\\tqdm\\auto.py:21: TqdmWarning: IProgress not found. Please update jupyter and ipywidgets. See https://ipywidgets.readthedocs.io/en/stable/user_install.html\n",
      "  from .autonotebook import tqdm as notebook_tqdm\n"
     ]
    }
   ],
   "source": [
    "import pandas as pd\n",
    "from datasets import Dataset, DatasetDict, load_from_disk\n",
    "import os\n",
    "import librosa\n",
    "from transformers import WhisperFeatureExtractor, WhisperForConditionalGeneration, WhisperTokenizer, WhisperProcessor\n",
    "import torch\n",
    "import evaluate\n",
    "from dataclasses import dataclass\n",
    "from typing import Any, Dict, List, Union\n",
    "from datasets import Audio\n",
    "\n",
    "def process_audio_file(file_path):\n",
    "    audio_path = os.path.join(folder_name, file_path)\n",
    "    audio_array, sampling_rate = librosa.load(audio_path, sr=None)\n",
    "    return {\n",
    "        'path': audio_path,\n",
    "        'array': audio_array,\n",
    "        'sampling_rate': sampling_rate\n",
    "    }\n",
    "\n",
    "def prepare_dataset(batch, feature_extractor, tokenizer):\n",
    "    audio = batch[\"audio\"]\n",
    "    batch[\"input_features\"] = feature_extractor(audio[\"array\"], sampling_rate=audio[\"sampling_rate\"]).input_features[0]\n",
    "    batch[\"labels\"] = tokenizer(batch[\"sentence\"]).input_ids\n",
    "    return batch"
   ]
  },
  {
   "cell_type": "code",
   "execution_count": 2,
   "metadata": {},
   "outputs": [
    {
     "name": "stderr",
     "output_type": "stream",
     "text": [
      "Map (num_proc=2): 100%|██████████| 510/510 [13:55<00:00,  1.64s/ examples] \n",
      "Saving the dataset (1/1 shards): 100%|██████████| 510/510 [00:06<00:00, 83.91 examples/s]\n"
     ]
    }
   ],
   "source": [
    "folder_name = r\"Datasets\\cv-corpus-17.0-delta-2024-03-15\\pl\\clips\"\n",
    "df = pd.read_csv(r\"Datasets\\cv-corpus-17.0-delta-2024-03-15\\pl\\validated.tsv\", sep=\"\\t\")\n",
    "\n",
    "df['audio'] = df['path'].apply(lambda x: process_audio_file(x))\n",
    "data_dict = {\n",
    "    'sentence': df['sentence'].tolist(),\n",
    "    'audio': df['audio'].tolist()\n",
    "}\n",
    "\n",
    "dataset = Dataset.from_dict(data_dict)\n",
    "dataset = dataset.cast_column(\"audio\", Audio(sampling_rate=16000))\n",
    "\n",
    "feature_extractor = WhisperFeatureExtractor.from_pretrained(\"openai/whisper-tiny\")\n",
    "tokenizer = WhisperTokenizer.from_pretrained(\"openai/whisper-tiny\", language=\"Polish\", task=\"transcribe\")\n",
    "processor = WhisperProcessor.from_pretrained(\"openai/whisper-tiny\", language=\"Polish\", task=\"transcribe\")\n",
    "dataset = dataset.map(\n",
    "    prepare_dataset,\n",
    "    fn_kwargs={\"feature_extractor\": feature_extractor, \"tokenizer\": tokenizer},\n",
    "    remove_columns=dataset.column_names,\n",
    "    num_proc=2,\n",
    ")\n",
    "\n",
    "# Check the first few entries in the 'audio' column before saving\n",
    "print(dataset[0]['audio'])\n",
    "\n",
    "dataset.save_to_disk(\"processed_dataset\")"
   ]
  },
  {
   "cell_type": "code",
   "execution_count": 19,
   "metadata": {},
   "outputs": [
    {
     "name": "stdout",
     "output_type": "stream",
     "text": [
      "dict_keys(['input_features', 'labels'])\n"
     ]
    }
   ],
   "source": [
    "dataset = load_from_disk(\"processed_dataset\")\n",
    "print(dataset[0].keys())"
   ]
  },
  {
   "cell_type": "code",
   "execution_count": 2,
   "metadata": {},
   "outputs": [
    {
     "name": "stdout",
     "output_type": "stream",
     "text": [
      "Index(['client_id', 'path', 'sentence_id', 'sentence', 'sentence_domain',\n",
      "       'up_votes', 'down_votes', 'age', 'gender', 'accents', 'variant',\n",
      "       'locale', 'segment'],\n",
      "      dtype='object')\n"
     ]
    }
   ],
   "source": [
    "import pandas as pd\n",
    "df = pd.read_csv(r\"Datasets\\cv-corpus-17.0-delta-2024-03-15\\pl\\validated.tsv\", sep=\"\\t\")\n",
    "print(df.columns)"
   ]
  },
  {
   "cell_type": "code",
   "execution_count": null,
   "metadata": {},
   "outputs": [],
   "source": []
  },
  {
   "cell_type": "code",
   "execution_count": null,
   "metadata": {},
   "outputs": [],
   "source": []
  }
 ],
 "metadata": {
  "kernelspec": {
   "display_name": "Python 3",
   "language": "python",
   "name": "python3"
  },
  "language_info": {
   "codemirror_mode": {
    "name": "ipython",
    "version": 3
   },
   "file_extension": ".py",
   "mimetype": "text/x-python",
   "name": "python",
   "nbconvert_exporter": "python",
   "pygments_lexer": "ipython3",
   "version": "3.12.5"
  }
 },
 "nbformat": 4,
 "nbformat_minor": 2
}
