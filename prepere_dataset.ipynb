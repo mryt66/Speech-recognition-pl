{
 "cells": [
  {
   "cell_type": "code",
   "execution_count": 1,
   "metadata": {},
   "outputs": [
    {
     "name": "stdout",
     "output_type": "stream",
     "text": [
      "23967 train samples\n",
      "5992 validation samples\n",
      "9230 test samples\n"
     ]
    }
   ],
   "source": [
    "import random\n",
    "from dataclasses import dataclass\n",
    "from typing import Any, Dict, List, Union\n",
    "from datasets import load_dataset, DatasetDict, Audio, Dataset, concatenate_datasets\n",
    "from transformers import WhisperFeatureExtractor, WhisperTokenizer, WhisperProcessor, WhisperForConditionalGeneration, Seq2SeqTrainingArguments, Seq2SeqTrainer, pipeline\n",
    "import evaluate\n",
    "import jiwer\n",
    "import numpy as np\n",
    "from sklearn.model_selection import train_test_split\n",
    "import torch\n",
    "import gradio as gr\n",
    "from tqdm import tqdm\n",
    "import gc\n",
    "import shutil\n",
    "import os\n",
    "\n",
    "common_voice = DatasetDict()\n",
    "common_voice[\"train\"] = load_dataset(\"mozilla-foundation/common_voice_17_0\", \"pl\", split=\"train+validation\", trust_remote_code=True)\n",
    "common_voice[\"train\"], common_voice[\"val\"] = common_voice[\"train\"].train_test_split(test_size=0.2, seed=1).values()\n",
    "common_voice[\"test\"] = load_dataset(\"mozilla-foundation/common_voice_17_0\", \"pl\", split=\"test\", trust_remote_code=True)\n",
    "common_voice2 = common_voice.remove_columns([\"accent\", \"age\", \"client_id\", \"down_votes\", \"gender\", \"locale\", \"path\", \"segment\", \"variant\", \"up_votes\"])\n",
    "\n",
    "print(common_voice2[\"train\"].num_rows, \"train samples\")\n",
    "print(common_voice2[\"val\"].num_rows, \"validation samples\")\n",
    "print(common_voice2[\"test\"].num_rows, \"test samples\")\n",
    "\n",
    "feature_extractor = WhisperFeatureExtractor.from_pretrained(\"openai/whisper-tiny\")\n",
    "tokenizer = WhisperTokenizer.from_pretrained(\"openai/whisper-tiny\", language=\"Polish\", task=\"transcribe\")\n",
    "processor = WhisperProcessor.from_pretrained(\"openai/whisper-tiny\", language=\"Polish\", task=\"transcribe\")\n"
   ]
  },
  {
   "cell_type": "code",
   "execution_count": 2,
   "metadata": {},
   "outputs": [
    {
     "name": "stdout",
     "output_type": "stream",
     "text": [
      "DatasetDict({\n",
      "    train: Dataset({\n",
      "        features: ['audio', 'sentence'],\n",
      "        num_rows: 23967\n",
      "    })\n",
      "    test: Dataset({\n",
      "        features: ['audio', 'sentence'],\n",
      "        num_rows: 9230\n",
      "    })\n",
      "    val: Dataset({\n",
      "        features: ['audio', 'sentence'],\n",
      "        num_rows: 5992\n",
      "    })\n",
      "})\n"
     ]
    }
   ],
   "source": [
    "import random\n",
    "\n",
    "def reduce_dataset(dataset, retain_percentage):\n",
    "    if not (0 < retain_percentage <= 1):\n",
    "        raise ValueError(\"retain_percentage must be between 0 and 1\")\n",
    "    original_num_rows = dataset.num_rows\n",
    "    if original_num_rows == 0:\n",
    "        raise ValueError(\"The dataset is empty\")\n",
    "    new_num_rows = int(original_num_rows * retain_percentage)\n",
    "    if new_num_rows == 0:\n",
    "        raise ValueError(\"retain_percentage is too low; no rows would be retained\")\n",
    "    return dataset.select(\n",
    "        indices=random.sample(range(original_num_rows), new_num_rows)\n",
    "    )\n",
    "\n",
    "common_voice2 = common_voice2.cast_column(\"audio\", Audio(sampling_rate=16000))\n",
    "\n",
    "reduce = 1\n",
    "common_voice = DatasetDict({\n",
    "    \"train\": reduce_dataset(common_voice2[\"train\"], reduce),\n",
    "    \"test\": reduce_dataset(common_voice2[\"test\"], reduce),\n",
    "    \"val\": reduce_dataset(common_voice2[\"val\"], reduce)\n",
    "})\n",
    "\n",
    "print(common_voice)\n"
   ]
  },
  {
   "cell_type": "code",
   "execution_count": null,
   "metadata": {},
   "outputs": [],
   "source": [
    "def split_dataset(dataset, batch_size):\n",
    "    for i in range(0, len(dataset), batch_size):\n",
    "        yield dataset.select(range(i, min(i + batch_size, len(dataset))))\n",
    "\n",
    "def save_batch_to_disk(batch_data, file_path, batch_index):\n",
    "    batch_dataset = Dataset.from_dict(batch_data)\n",
    "    batch_file_path = f\"Prepared_Datasets/{file_path}_batch_{batch_index}\"\n",
    "    if os.path.exists(batch_file_path):\n",
    "        shutil.rmtree(batch_file_path)\n",
    "    batch_dataset.save_to_disk(batch_file_path)\n",
    "    del batch_data\n",
    "    del batch_dataset\n",
    "    gc.collect()\n",
    "\n",
    "train_file_path = \"processed_train\"\n",
    "test_file_path = \"processed_test\"\n",
    "val_file_path = \"processed_val\"\n",
    "\n",
    "batch_size = 1000\n",
    "if not os.path.exists(\"Prepared_Datasets\"):\n",
    "    os.makedirs(\"Prepared_Datasets\")\n",
    "\n",
    "for batch_index, batch in enumerate(tqdm(split_dataset(common_voice[\"train\"], batch_size), desc=\"Processing Training Data\", unit=\"batch\")):\n",
    "    batch_data = {\"input_features\": [], \"labels\": []}\n",
    "    for example in batch:\n",
    "        audio = example[\"audio\"]\n",
    "        sentence = example[\"sentence\"]\n",
    "        input_features = feature_extractor(audio[\"array\"], sampling_rate=audio[\"sampling_rate\"], return_tensors=\"pt\").input_features[0]\n",
    "        labels = tokenizer(sentence, return_tensors=\"pt\").input_ids[0]\n",
    "        batch_data[\"input_features\"].append(input_features.numpy().tolist())\n",
    "        batch_data[\"labels\"].append(labels.numpy().tolist())\n",
    "    \n",
    "    save_batch_to_disk(batch_data, train_file_path, batch_index)\n",
    "\n",
    "for batch_index, batch in enumerate(tqdm(split_dataset(common_voice[\"test\"], batch_size), desc=\"Processing Testing Data\", unit=\"batch\")):\n",
    "    batch_data = {\"input_features\": [], \"labels\": []}\n",
    "    for example in batch:\n",
    "        audio = example[\"audio\"]\n",
    "        sentence = example[\"sentence\"]\n",
    "        input_features = feature_extractor(audio[\"array\"], sampling_rate=audio[\"sampling_rate\"], return_tensors=\"pt\").input_features[0]\n",
    "        labels = tokenizer(sentence, return_tensors=\"pt\").input_ids[0]\n",
    "        batch_data[\"input_features\"].append(input_features.numpy().tolist())\n",
    "        batch_data[\"labels\"].append(labels.numpy().tolist())\n",
    "    \n",
    "    save_batch_to_disk(batch_data, test_file_path, batch_index)\n",
    "\n",
    "for batch_index, batch in enumerate(tqdm(split_dataset(common_voice[\"val\"], batch_size), desc=\"Processing Validation Data\", unit=\"batch\")):\n",
    "    batch_data = {\"input_features\": [], \"labels\": []}\n",
    "    for example in batch:\n",
    "        audio = example[\"audio\"]\n",
    "        sentence = example[\"sentence\"]\n",
    "        input_features = feature_extractor(audio[\"array\"], sampling_rate=audio[\"sampling_rate\"], return_tensors=\"pt\").input_features[0]\n",
    "        labels = tokenizer(sentence, return_tensors=\"pt\").input_ids[0]\n",
    "        batch_data[\"input_features\"].append(input_features.numpy().tolist())\n",
    "        batch_data[\"labels\"].append(labels.numpy().tolist())\n",
    "    \n",
    "    save_batch_to_disk(batch_data, val_file_path, batch_index)\n"
   ]
  },
  {
   "cell_type": "code",
   "execution_count": null,
   "metadata": {},
   "outputs": [],
   "source": []
  }
 ],
 "metadata": {
  "kernelspec": {
   "display_name": "Python 3",
   "language": "python",
   "name": "python3"
  },
  "language_info": {
   "codemirror_mode": {
    "name": "ipython",
    "version": 3
   },
   "file_extension": ".py",
   "mimetype": "text/x-python",
   "name": "python",
   "nbconvert_exporter": "python",
   "pygments_lexer": "ipython3",
   "version": "3.12.0"
  }
 },
 "nbformat": 4,
 "nbformat_minor": 2
}
